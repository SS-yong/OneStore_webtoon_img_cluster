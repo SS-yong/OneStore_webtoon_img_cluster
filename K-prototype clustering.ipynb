{
 "cells": [
  {
   "cell_type": "code",
   "execution_count": 1,
   "metadata": {
    "collapsed": true
   },
   "outputs": [],
   "source": [
    "# data driven packages\n",
    "import os\n",
    "import numpy as np\n",
    "import pandas as pd\n",
    "from tqdm import tqdm\n",
    "from PIL import ImageColor\n",
    "\n",
    "# plotting packages\n",
    "import umap\n",
    "import matplotlib.pyplot as plt\n",
    "from matplotlib.colors import to_rgb\n",
    "import plotnine\n",
    "from plotnine import *\n",
    "\n",
    "# cluster packages\n",
    "from kmodes.kprototypes import KPrototypes\n",
    "\n",
    "# use importance plot\n",
    "from lightgbm import LGBMClassifier\n",
    "from sklearn.model_selection import cross_val_score\n",
    "\n",
    "# file copy-arrange\n",
    "import shutil"
   ]
  },
  {
   "cell_type": "markdown",
   "source": [
    "작업 경로 설정\n",
    "데이터 불러오기"
   ],
   "metadata": {
    "collapsed": false
   }
  },
  {
   "cell_type": "code",
   "execution_count": 2,
   "outputs": [],
   "source": [
    "os.chdir(r'C:\\Users\\Nyoths\\Desktop\\onestory_color_k-mean')\n",
    "data = pd.read_csv('webtoon_top5col.csv')"
   ],
   "metadata": {
    "collapsed": false,
    "pycharm": {
     "name": "#%%\n"
    }
   }
  },
  {
   "cell_type": "markdown",
   "source": [
    "데이터 형태 확인"
   ],
   "metadata": {
    "collapsed": false
   }
  },
  {
   "cell_type": "code",
   "execution_count": 3,
   "outputs": [
    {
     "data": {
      "text/plain": "                   제목 카테고리     hex1     hex2     hex3     hex4     hex5  \\\n0        4와 2분의 1 정거장   BL  #fefcf7  #fcd2cf  #fa8263  #f6ae9d  #dd3435   \n1              BL의 정석   BL  #e5e8e9  #3294c2  #282b2e  #6a6f73  #b6b7b9   \n2  Not so bad(낫 소 배드)   BL  #fdf6f1  #301632  #f3d9c4  #693560  #b68293   \n3          Take on Me   BL  #f2f5f1  #f0c9c2  #d4898d  #914a5d  #431c27   \n4   [BL] 새비지 가든 [일반판]   BL  #fdf8f0  #65504d  #a39796  #e1c3ae  #251916   \n\n   hex1rate  hex2rate  hex3rate  hex4rate  hex5rate               file_path  \n0  0.362742  0.254111  0.181476  0.106669  0.095002        4와 2분의 1 정거장.jpg  \n1  0.595297  0.128252  0.106436  0.085562  0.084453              BL의 정석.jpg  \n2  0.538033  0.174916  0.169953  0.064639  0.052458  Not so bad(낫 소 배드).jpg  \n3  0.550254  0.149492  0.129461  0.092122  0.078671          Take on Me.jpg  \n4  0.323965  0.282766  0.149054  0.134914  0.109301   [BL] 새비지 가든 [일반판].jpg  ",
      "text/html": "<div>\n<style scoped>\n    .dataframe tbody tr th:only-of-type {\n        vertical-align: middle;\n    }\n\n    .dataframe tbody tr th {\n        vertical-align: top;\n    }\n\n    .dataframe thead th {\n        text-align: right;\n    }\n</style>\n<table border=\"1\" class=\"dataframe\">\n  <thead>\n    <tr style=\"text-align: right;\">\n      <th></th>\n      <th>제목</th>\n      <th>카테고리</th>\n      <th>hex1</th>\n      <th>hex2</th>\n      <th>hex3</th>\n      <th>hex4</th>\n      <th>hex5</th>\n      <th>hex1rate</th>\n      <th>hex2rate</th>\n      <th>hex3rate</th>\n      <th>hex4rate</th>\n      <th>hex5rate</th>\n      <th>file_path</th>\n    </tr>\n  </thead>\n  <tbody>\n    <tr>\n      <th>0</th>\n      <td>4와 2분의 1 정거장</td>\n      <td>BL</td>\n      <td>#fefcf7</td>\n      <td>#fcd2cf</td>\n      <td>#fa8263</td>\n      <td>#f6ae9d</td>\n      <td>#dd3435</td>\n      <td>0.362742</td>\n      <td>0.254111</td>\n      <td>0.181476</td>\n      <td>0.106669</td>\n      <td>0.095002</td>\n      <td>4와 2분의 1 정거장.jpg</td>\n    </tr>\n    <tr>\n      <th>1</th>\n      <td>BL의 정석</td>\n      <td>BL</td>\n      <td>#e5e8e9</td>\n      <td>#3294c2</td>\n      <td>#282b2e</td>\n      <td>#6a6f73</td>\n      <td>#b6b7b9</td>\n      <td>0.595297</td>\n      <td>0.128252</td>\n      <td>0.106436</td>\n      <td>0.085562</td>\n      <td>0.084453</td>\n      <td>BL의 정석.jpg</td>\n    </tr>\n    <tr>\n      <th>2</th>\n      <td>Not so bad(낫 소 배드)</td>\n      <td>BL</td>\n      <td>#fdf6f1</td>\n      <td>#301632</td>\n      <td>#f3d9c4</td>\n      <td>#693560</td>\n      <td>#b68293</td>\n      <td>0.538033</td>\n      <td>0.174916</td>\n      <td>0.169953</td>\n      <td>0.064639</td>\n      <td>0.052458</td>\n      <td>Not so bad(낫 소 배드).jpg</td>\n    </tr>\n    <tr>\n      <th>3</th>\n      <td>Take on Me</td>\n      <td>BL</td>\n      <td>#f2f5f1</td>\n      <td>#f0c9c2</td>\n      <td>#d4898d</td>\n      <td>#914a5d</td>\n      <td>#431c27</td>\n      <td>0.550254</td>\n      <td>0.149492</td>\n      <td>0.129461</td>\n      <td>0.092122</td>\n      <td>0.078671</td>\n      <td>Take on Me.jpg</td>\n    </tr>\n    <tr>\n      <th>4</th>\n      <td>[BL] 새비지 가든 [일반판]</td>\n      <td>BL</td>\n      <td>#fdf8f0</td>\n      <td>#65504d</td>\n      <td>#a39796</td>\n      <td>#e1c3ae</td>\n      <td>#251916</td>\n      <td>0.323965</td>\n      <td>0.282766</td>\n      <td>0.149054</td>\n      <td>0.134914</td>\n      <td>0.109301</td>\n      <td>[BL] 새비지 가든 [일반판].jpg</td>\n    </tr>\n  </tbody>\n</table>\n</div>"
     },
     "execution_count": 3,
     "metadata": {},
     "output_type": "execute_result"
    }
   ],
   "source": [
    "data.head()"
   ],
   "metadata": {
    "collapsed": false,
    "pycharm": {
     "name": "#%%\n"
    }
   }
  },
  {
   "cell_type": "code",
   "execution_count": 4,
   "outputs": [
    {
     "name": "stdout",
     "output_type": "stream",
     "text": [
      "<class 'pandas.core.frame.DataFrame'>\n",
      "RangeIndex: 1107 entries, 0 to 1106\n",
      "Data columns (total 13 columns):\n",
      " #   Column     Non-Null Count  Dtype  \n",
      "---  ------     --------------  -----  \n",
      " 0   제목         1107 non-null   object \n",
      " 1   카테고리       1107 non-null   object \n",
      " 2   hex1       1107 non-null   object \n",
      " 3   hex2       1107 non-null   object \n",
      " 4   hex3       1107 non-null   object \n",
      " 5   hex4       1107 non-null   object \n",
      " 6   hex5       1107 non-null   object \n",
      " 7   hex1rate   1107 non-null   float64\n",
      " 8   hex2rate   1107 non-null   float64\n",
      " 9   hex3rate   1107 non-null   float64\n",
      " 10  hex4rate   1107 non-null   float64\n",
      " 11  hex5rate   1107 non-null   float64\n",
      " 12  file_path  1107 non-null   object \n",
      "dtypes: float64(5), object(8)\n",
      "memory usage: 112.6+ KB\n"
     ]
    }
   ],
   "source": [
    "data.info()"
   ],
   "metadata": {
    "collapsed": false,
    "pycharm": {
     "name": "#%%\n"
    }
   }
  },
  {
   "cell_type": "markdown",
   "source": [
    "hex1 ~ hex5는 색깔 분포의 순위를 의미하고\n",
    "hex1rate는 해당번째 순위의 정도를 의미하고 있다.\n",
    "\n",
    "NN은 비지도 학습에 좋지 못하므로 제외\n",
    "카테고리는 범주형 자료이니 군집화시 유의\n",
    "hexcode는 rgb형으로 바꾸어 분석을 실시하여야 할 것."
   ],
   "metadata": {
    "collapsed": false
   }
  },
  {
   "cell_type": "markdown",
   "source": [
    "RGB형은 다음과 같이 변형이 가능하다."
   ],
   "metadata": {
    "collapsed": false
   }
  },
  {
   "cell_type": "code",
   "execution_count": 5,
   "outputs": [
    {
     "name": "stdout",
     "output_type": "stream",
     "text": [
      "hex code : #fefcf7 , rgb : (254, 252, 247) \n",
      "정규화 rgb : (0.996078431372549, 0.9882352941176471, 0.9686274509803922)\n"
     ]
    }
   ],
   "source": [
    "print(f'hex code : {data.hex1[0]} , rgb : {ImageColor.getcolor(data.hex1[0], \"RGB\")} ')\n",
    "a, b, c = ImageColor.getcolor(data.hex1[0], \"RGB\")\n",
    "print(f'정규화 rgb : {a/255, b/255, c/255}')"
   ],
   "metadata": {
    "collapsed": false,
    "pycharm": {
     "name": "#%%\n"
    }
   }
  },
  {
   "cell_type": "markdown",
   "source": [
    "혹은 다음과 같이 변형이 가능하다.\n",
    "사실 to_rgb는 모르는 사용법이라 한번 결과체크하는 과정때문에 사용함.\n",
    "\n",
    "k-mean 과정에는 스케일링을 같게 해주는 과정이 필요하므로, 이 변환이 더 올바르다고 판단하였다."
   ],
   "metadata": {
    "collapsed": false
   }
  },
  {
   "cell_type": "code",
   "execution_count": 6,
   "outputs": [
    {
     "data": {
      "text/plain": "(0.996078431372549, 0.9882352941176471, 0.9686274509803922)"
     },
     "execution_count": 6,
     "metadata": {},
     "output_type": "execute_result"
    }
   ],
   "source": [
    "to_rgb(data.hex1[0])"
   ],
   "metadata": {
    "collapsed": false,
    "pycharm": {
     "name": "#%%\n"
    }
   }
  },
  {
   "cell_type": "markdown",
   "source": [
    "비효율적이긴 한데 효율적인 생각이 바로 안나니까, 그냥 이대로 구현함."
   ],
   "metadata": {
    "collapsed": false
   }
  },
  {
   "cell_type": "code",
   "execution_count": 7,
   "outputs": [],
   "source": [
    "hex1 = np.array([to_rgb(line) for line in data.hex1])\n",
    "hex2 = np.array([to_rgb(line) for line in data.hex2])\n",
    "hex3 = np.array([to_rgb(line) for line in data.hex3])\n",
    "hex4 = np.array([to_rgb(line) for line in data.hex4])\n",
    "hex5 = np.array([to_rgb(line) for line in data.hex5])"
   ],
   "metadata": {
    "collapsed": false,
    "pycharm": {
     "name": "#%%\n"
    }
   }
  },
  {
   "cell_type": "code",
   "execution_count": 8,
   "outputs": [],
   "source": [
    "hex_arr = np.concatenate((hex1, hex2, hex3, hex4, hex5),axis=1)"
   ],
   "metadata": {
    "collapsed": false,
    "pycharm": {
     "name": "#%%\n"
    }
   }
  },
  {
   "cell_type": "code",
   "execution_count": 9,
   "outputs": [
    {
     "data": {
      "text/plain": "array([[0.99607843, 0.98823529, 0.96862745, 0.98823529, 0.82352941,\n        0.81176471, 0.98039216, 0.50980392, 0.38823529, 0.96470588,\n        0.68235294, 0.61568627, 0.86666667, 0.20392157, 0.20784314],\n       [0.89803922, 0.90980392, 0.91372549, 0.19607843, 0.58039216,\n        0.76078431, 0.15686275, 0.16862745, 0.18039216, 0.41568627,\n        0.43529412, 0.45098039, 0.71372549, 0.71764706, 0.7254902 ],\n       [0.99215686, 0.96470588, 0.94509804, 0.18823529, 0.08627451,\n        0.19607843, 0.95294118, 0.85098039, 0.76862745, 0.41176471,\n        0.20784314, 0.37647059, 0.71372549, 0.50980392, 0.57647059],\n       [0.94901961, 0.96078431, 0.94509804, 0.94117647, 0.78823529,\n        0.76078431, 0.83137255, 0.5372549 , 0.55294118, 0.56862745,\n        0.29019608, 0.36470588, 0.2627451 , 0.10980392, 0.15294118],\n       [0.99215686, 0.97254902, 0.94117647, 0.39607843, 0.31372549,\n        0.30196078, 0.63921569, 0.59215686, 0.58823529, 0.88235294,\n        0.76470588, 0.68235294, 0.14509804, 0.09803922, 0.08627451]])"
     },
     "execution_count": 9,
     "metadata": {},
     "output_type": "execute_result"
    }
   ],
   "source": [
    "hex_arr[:5]"
   ],
   "metadata": {
    "collapsed": false,
    "pycharm": {
     "name": "#%%\n"
    }
   }
  },
  {
   "cell_type": "code",
   "execution_count": 10,
   "outputs": [],
   "source": [
    "rgb_col_lab = ['hex1R', 'hex1G', 'hex1B', 'hex2R', 'hex2G', 'hex2B', 'hex3R', 'hex3G', 'hex3B',\n",
    "               'hex4R', 'hex4G', 'hex4B', 'hex5R', 'hex5G', 'hex5B']\n",
    "rgb_data = pd.DataFrame(hex_arr, columns = rgb_col_lab)"
   ],
   "metadata": {
    "collapsed": false,
    "pycharm": {
     "name": "#%%\n"
    }
   }
  },
  {
   "cell_type": "markdown",
   "source": [
    "RGB 값 변화한 데이터를, data에 결합해준다.\n",
    "이하 데이터셋을 분석 기본 세트로 정의함."
   ],
   "metadata": {
    "collapsed": false
   }
  },
  {
   "cell_type": "code",
   "execution_count": 11,
   "outputs": [
    {
     "data": {
      "text/plain": "      hex1R     hex1G     hex1B     hex2R     hex2G     hex2B     hex3R  \\\n0  0.996078  0.988235  0.968627  0.988235  0.823529  0.811765  0.980392   \n1  0.898039  0.909804  0.913725  0.196078  0.580392  0.760784  0.156863   \n2  0.992157  0.964706  0.945098  0.188235  0.086275  0.196078  0.952941   \n3  0.949020  0.960784  0.945098  0.941176  0.788235  0.760784  0.831373   \n4  0.992157  0.972549  0.941176  0.396078  0.313725  0.301961  0.639216   \n\n      hex3G     hex3B     hex4R     hex4G     hex4B     hex5R     hex5G  \\\n0  0.509804  0.388235  0.964706  0.682353  0.615686  0.866667  0.203922   \n1  0.168627  0.180392  0.415686  0.435294  0.450980  0.713725  0.717647   \n2  0.850980  0.768627  0.411765  0.207843  0.376471  0.713725  0.509804   \n3  0.537255  0.552941  0.568627  0.290196  0.364706  0.262745  0.109804   \n4  0.592157  0.588235  0.882353  0.764706  0.682353  0.145098  0.098039   \n\n      hex5B  \n0  0.207843  \n1  0.725490  \n2  0.576471  \n3  0.152941  \n4  0.086275  ",
      "text/html": "<div>\n<style scoped>\n    .dataframe tbody tr th:only-of-type {\n        vertical-align: middle;\n    }\n\n    .dataframe tbody tr th {\n        vertical-align: top;\n    }\n\n    .dataframe thead th {\n        text-align: right;\n    }\n</style>\n<table border=\"1\" class=\"dataframe\">\n  <thead>\n    <tr style=\"text-align: right;\">\n      <th></th>\n      <th>hex1R</th>\n      <th>hex1G</th>\n      <th>hex1B</th>\n      <th>hex2R</th>\n      <th>hex2G</th>\n      <th>hex2B</th>\n      <th>hex3R</th>\n      <th>hex3G</th>\n      <th>hex3B</th>\n      <th>hex4R</th>\n      <th>hex4G</th>\n      <th>hex4B</th>\n      <th>hex5R</th>\n      <th>hex5G</th>\n      <th>hex5B</th>\n    </tr>\n  </thead>\n  <tbody>\n    <tr>\n      <th>0</th>\n      <td>0.996078</td>\n      <td>0.988235</td>\n      <td>0.968627</td>\n      <td>0.988235</td>\n      <td>0.823529</td>\n      <td>0.811765</td>\n      <td>0.980392</td>\n      <td>0.509804</td>\n      <td>0.388235</td>\n      <td>0.964706</td>\n      <td>0.682353</td>\n      <td>0.615686</td>\n      <td>0.866667</td>\n      <td>0.203922</td>\n      <td>0.207843</td>\n    </tr>\n    <tr>\n      <th>1</th>\n      <td>0.898039</td>\n      <td>0.909804</td>\n      <td>0.913725</td>\n      <td>0.196078</td>\n      <td>0.580392</td>\n      <td>0.760784</td>\n      <td>0.156863</td>\n      <td>0.168627</td>\n      <td>0.180392</td>\n      <td>0.415686</td>\n      <td>0.435294</td>\n      <td>0.450980</td>\n      <td>0.713725</td>\n      <td>0.717647</td>\n      <td>0.725490</td>\n    </tr>\n    <tr>\n      <th>2</th>\n      <td>0.992157</td>\n      <td>0.964706</td>\n      <td>0.945098</td>\n      <td>0.188235</td>\n      <td>0.086275</td>\n      <td>0.196078</td>\n      <td>0.952941</td>\n      <td>0.850980</td>\n      <td>0.768627</td>\n      <td>0.411765</td>\n      <td>0.207843</td>\n      <td>0.376471</td>\n      <td>0.713725</td>\n      <td>0.509804</td>\n      <td>0.576471</td>\n    </tr>\n    <tr>\n      <th>3</th>\n      <td>0.949020</td>\n      <td>0.960784</td>\n      <td>0.945098</td>\n      <td>0.941176</td>\n      <td>0.788235</td>\n      <td>0.760784</td>\n      <td>0.831373</td>\n      <td>0.537255</td>\n      <td>0.552941</td>\n      <td>0.568627</td>\n      <td>0.290196</td>\n      <td>0.364706</td>\n      <td>0.262745</td>\n      <td>0.109804</td>\n      <td>0.152941</td>\n    </tr>\n    <tr>\n      <th>4</th>\n      <td>0.992157</td>\n      <td>0.972549</td>\n      <td>0.941176</td>\n      <td>0.396078</td>\n      <td>0.313725</td>\n      <td>0.301961</td>\n      <td>0.639216</td>\n      <td>0.592157</td>\n      <td>0.588235</td>\n      <td>0.882353</td>\n      <td>0.764706</td>\n      <td>0.682353</td>\n      <td>0.145098</td>\n      <td>0.098039</td>\n      <td>0.086275</td>\n    </tr>\n  </tbody>\n</table>\n</div>"
     },
     "execution_count": 11,
     "metadata": {},
     "output_type": "execute_result"
    }
   ],
   "source": [
    "rgb_data.head()"
   ],
   "metadata": {
    "collapsed": false,
    "pycharm": {
     "name": "#%%\n"
    }
   }
  },
  {
   "cell_type": "code",
   "execution_count": 12,
   "outputs": [],
   "source": [
    "data = pd.concat([data, rgb_data], axis = 1)"
   ],
   "metadata": {
    "collapsed": false,
    "pycharm": {
     "name": "#%%\n"
    }
   }
  },
  {
   "cell_type": "code",
   "execution_count": 13,
   "outputs": [
    {
     "name": "stdout",
     "output_type": "stream",
     "text": [
      "<class 'pandas.core.frame.DataFrame'>\n",
      "RangeIndex: 1107 entries, 0 to 1106\n",
      "Data columns (total 28 columns):\n",
      " #   Column     Non-Null Count  Dtype  \n",
      "---  ------     --------------  -----  \n",
      " 0   제목         1107 non-null   object \n",
      " 1   카테고리       1107 non-null   object \n",
      " 2   hex1       1107 non-null   object \n",
      " 3   hex2       1107 non-null   object \n",
      " 4   hex3       1107 non-null   object \n",
      " 5   hex4       1107 non-null   object \n",
      " 6   hex5       1107 non-null   object \n",
      " 7   hex1rate   1107 non-null   float64\n",
      " 8   hex2rate   1107 non-null   float64\n",
      " 9   hex3rate   1107 non-null   float64\n",
      " 10  hex4rate   1107 non-null   float64\n",
      " 11  hex5rate   1107 non-null   float64\n",
      " 12  file_path  1107 non-null   object \n",
      " 13  hex1R      1107 non-null   float64\n",
      " 14  hex1G      1107 non-null   float64\n",
      " 15  hex1B      1107 non-null   float64\n",
      " 16  hex2R      1107 non-null   float64\n",
      " 17  hex2G      1107 non-null   float64\n",
      " 18  hex2B      1107 non-null   float64\n",
      " 19  hex3R      1107 non-null   float64\n",
      " 20  hex3G      1107 non-null   float64\n",
      " 21  hex3B      1107 non-null   float64\n",
      " 22  hex4R      1107 non-null   float64\n",
      " 23  hex4G      1107 non-null   float64\n",
      " 24  hex4B      1107 non-null   float64\n",
      " 25  hex5R      1107 non-null   float64\n",
      " 26  hex5G      1107 non-null   float64\n",
      " 27  hex5B      1107 non-null   float64\n",
      "dtypes: float64(20), object(8)\n",
      "memory usage: 242.3+ KB\n"
     ]
    }
   ],
   "source": [
    "data.info()"
   ],
   "metadata": {
    "collapsed": false,
    "pycharm": {
     "name": "#%%\n"
    }
   }
  },
  {
   "cell_type": "code",
   "execution_count": 14,
   "outputs": [
    {
     "data": {
      "text/plain": "                   제목 카테고리     hex1     hex2     hex3     hex4     hex5  \\\n0        4와 2분의 1 정거장   BL  #fefcf7  #fcd2cf  #fa8263  #f6ae9d  #dd3435   \n1              BL의 정석   BL  #e5e8e9  #3294c2  #282b2e  #6a6f73  #b6b7b9   \n2  Not so bad(낫 소 배드)   BL  #fdf6f1  #301632  #f3d9c4  #693560  #b68293   \n3          Take on Me   BL  #f2f5f1  #f0c9c2  #d4898d  #914a5d  #431c27   \n4   [BL] 새비지 가든 [일반판]   BL  #fdf8f0  #65504d  #a39796  #e1c3ae  #251916   \n\n   hex1rate  hex2rate  hex3rate  ...     hex2B     hex3R     hex3G     hex3B  \\\n0  0.362742  0.254111  0.181476  ...  0.811765  0.980392  0.509804  0.388235   \n1  0.595297  0.128252  0.106436  ...  0.760784  0.156863  0.168627  0.180392   \n2  0.538033  0.174916  0.169953  ...  0.196078  0.952941  0.850980  0.768627   \n3  0.550254  0.149492  0.129461  ...  0.760784  0.831373  0.537255  0.552941   \n4  0.323965  0.282766  0.149054  ...  0.301961  0.639216  0.592157  0.588235   \n\n      hex4R     hex4G     hex4B     hex5R     hex5G     hex5B  \n0  0.964706  0.682353  0.615686  0.866667  0.203922  0.207843  \n1  0.415686  0.435294  0.450980  0.713725  0.717647  0.725490  \n2  0.411765  0.207843  0.376471  0.713725  0.509804  0.576471  \n3  0.568627  0.290196  0.364706  0.262745  0.109804  0.152941  \n4  0.882353  0.764706  0.682353  0.145098  0.098039  0.086275  \n\n[5 rows x 28 columns]",
      "text/html": "<div>\n<style scoped>\n    .dataframe tbody tr th:only-of-type {\n        vertical-align: middle;\n    }\n\n    .dataframe tbody tr th {\n        vertical-align: top;\n    }\n\n    .dataframe thead th {\n        text-align: right;\n    }\n</style>\n<table border=\"1\" class=\"dataframe\">\n  <thead>\n    <tr style=\"text-align: right;\">\n      <th></th>\n      <th>제목</th>\n      <th>카테고리</th>\n      <th>hex1</th>\n      <th>hex2</th>\n      <th>hex3</th>\n      <th>hex4</th>\n      <th>hex5</th>\n      <th>hex1rate</th>\n      <th>hex2rate</th>\n      <th>hex3rate</th>\n      <th>...</th>\n      <th>hex2B</th>\n      <th>hex3R</th>\n      <th>hex3G</th>\n      <th>hex3B</th>\n      <th>hex4R</th>\n      <th>hex4G</th>\n      <th>hex4B</th>\n      <th>hex5R</th>\n      <th>hex5G</th>\n      <th>hex5B</th>\n    </tr>\n  </thead>\n  <tbody>\n    <tr>\n      <th>0</th>\n      <td>4와 2분의 1 정거장</td>\n      <td>BL</td>\n      <td>#fefcf7</td>\n      <td>#fcd2cf</td>\n      <td>#fa8263</td>\n      <td>#f6ae9d</td>\n      <td>#dd3435</td>\n      <td>0.362742</td>\n      <td>0.254111</td>\n      <td>0.181476</td>\n      <td>...</td>\n      <td>0.811765</td>\n      <td>0.980392</td>\n      <td>0.509804</td>\n      <td>0.388235</td>\n      <td>0.964706</td>\n      <td>0.682353</td>\n      <td>0.615686</td>\n      <td>0.866667</td>\n      <td>0.203922</td>\n      <td>0.207843</td>\n    </tr>\n    <tr>\n      <th>1</th>\n      <td>BL의 정석</td>\n      <td>BL</td>\n      <td>#e5e8e9</td>\n      <td>#3294c2</td>\n      <td>#282b2e</td>\n      <td>#6a6f73</td>\n      <td>#b6b7b9</td>\n      <td>0.595297</td>\n      <td>0.128252</td>\n      <td>0.106436</td>\n      <td>...</td>\n      <td>0.760784</td>\n      <td>0.156863</td>\n      <td>0.168627</td>\n      <td>0.180392</td>\n      <td>0.415686</td>\n      <td>0.435294</td>\n      <td>0.450980</td>\n      <td>0.713725</td>\n      <td>0.717647</td>\n      <td>0.725490</td>\n    </tr>\n    <tr>\n      <th>2</th>\n      <td>Not so bad(낫 소 배드)</td>\n      <td>BL</td>\n      <td>#fdf6f1</td>\n      <td>#301632</td>\n      <td>#f3d9c4</td>\n      <td>#693560</td>\n      <td>#b68293</td>\n      <td>0.538033</td>\n      <td>0.174916</td>\n      <td>0.169953</td>\n      <td>...</td>\n      <td>0.196078</td>\n      <td>0.952941</td>\n      <td>0.850980</td>\n      <td>0.768627</td>\n      <td>0.411765</td>\n      <td>0.207843</td>\n      <td>0.376471</td>\n      <td>0.713725</td>\n      <td>0.509804</td>\n      <td>0.576471</td>\n    </tr>\n    <tr>\n      <th>3</th>\n      <td>Take on Me</td>\n      <td>BL</td>\n      <td>#f2f5f1</td>\n      <td>#f0c9c2</td>\n      <td>#d4898d</td>\n      <td>#914a5d</td>\n      <td>#431c27</td>\n      <td>0.550254</td>\n      <td>0.149492</td>\n      <td>0.129461</td>\n      <td>...</td>\n      <td>0.760784</td>\n      <td>0.831373</td>\n      <td>0.537255</td>\n      <td>0.552941</td>\n      <td>0.568627</td>\n      <td>0.290196</td>\n      <td>0.364706</td>\n      <td>0.262745</td>\n      <td>0.109804</td>\n      <td>0.152941</td>\n    </tr>\n    <tr>\n      <th>4</th>\n      <td>[BL] 새비지 가든 [일반판]</td>\n      <td>BL</td>\n      <td>#fdf8f0</td>\n      <td>#65504d</td>\n      <td>#a39796</td>\n      <td>#e1c3ae</td>\n      <td>#251916</td>\n      <td>0.323965</td>\n      <td>0.282766</td>\n      <td>0.149054</td>\n      <td>...</td>\n      <td>0.301961</td>\n      <td>0.639216</td>\n      <td>0.592157</td>\n      <td>0.588235</td>\n      <td>0.882353</td>\n      <td>0.764706</td>\n      <td>0.682353</td>\n      <td>0.145098</td>\n      <td>0.098039</td>\n      <td>0.086275</td>\n    </tr>\n  </tbody>\n</table>\n<p>5 rows × 28 columns</p>\n</div>"
     },
     "execution_count": 14,
     "metadata": {},
     "output_type": "execute_result"
    }
   ],
   "source": [
    "data.head()"
   ],
   "metadata": {
    "collapsed": false,
    "pycharm": {
     "name": "#%%\n"
    }
   }
  },
  {
   "cell_type": "markdown",
   "source": [
    "데이터셋의 형태도 그대로 유지되었고\n",
    "표준화 완료된 값으로 RGB 값을 반환하였다.\n",
    "\n",
    "일단 가능한지 보기 위해. 카테고리, hex1-5(rgb값), hex1-5 rate를 k-prototype에 적용시킨다.\n",
    "\n",
    "카테고리 함수 하나 때문에 UMAP을 사용했기 때문에, 그래프는 매 실행마다 다르게 나온다. 막으려먼, fit, umap 등에서 모두 seed 고정하고\n",
    "random.seed, np.seed, tf.seed의 고정도 필요.\n",
    "\n",
    "## 차후에 확인 작업 필요하다. rgb값만 넣고 k-prototype 돌린결과가 더 양호한지, 3개의 색만 넣은게 양호한지. 등등 여러가지 경우의 수를 확인해야 한다."
   ],
   "metadata": {
    "collapsed": false
   }
  },
  {
   "cell_type": "code",
   "execution_count": 15,
   "outputs": [
    {
     "data": {
      "text/plain": "  카테고리  hex1rate  hex2rate  hex3rate  hex4rate  hex5rate     hex1R     hex1G  \\\n0   BL  0.362742  0.254111  0.181476  0.106669  0.095002  0.996078  0.988235   \n1   BL  0.595297  0.128252  0.106436  0.085562  0.084453  0.898039  0.909804   \n2   BL  0.538033  0.174916  0.169953  0.064639  0.052458  0.992157  0.964706   \n3   BL  0.550254  0.149492  0.129461  0.092122  0.078671  0.949020  0.960784   \n4   BL  0.323965  0.282766  0.149054  0.134914  0.109301  0.992157  0.972549   \n\n      hex1B     hex2R  ...     hex2B     hex3R     hex3G     hex3B     hex4R  \\\n0  0.968627  0.988235  ...  0.811765  0.980392  0.509804  0.388235  0.964706   \n1  0.913725  0.196078  ...  0.760784  0.156863  0.168627  0.180392  0.415686   \n2  0.945098  0.188235  ...  0.196078  0.952941  0.850980  0.768627  0.411765   \n3  0.945098  0.941176  ...  0.760784  0.831373  0.537255  0.552941  0.568627   \n4  0.941176  0.396078  ...  0.301961  0.639216  0.592157  0.588235  0.882353   \n\n      hex4G     hex4B     hex5R     hex5G     hex5B  \n0  0.682353  0.615686  0.866667  0.203922  0.207843  \n1  0.435294  0.450980  0.713725  0.717647  0.725490  \n2  0.207843  0.376471  0.713725  0.509804  0.576471  \n3  0.290196  0.364706  0.262745  0.109804  0.152941  \n4  0.764706  0.682353  0.145098  0.098039  0.086275  \n\n[5 rows x 21 columns]",
      "text/html": "<div>\n<style scoped>\n    .dataframe tbody tr th:only-of-type {\n        vertical-align: middle;\n    }\n\n    .dataframe tbody tr th {\n        vertical-align: top;\n    }\n\n    .dataframe thead th {\n        text-align: right;\n    }\n</style>\n<table border=\"1\" class=\"dataframe\">\n  <thead>\n    <tr style=\"text-align: right;\">\n      <th></th>\n      <th>카테고리</th>\n      <th>hex1rate</th>\n      <th>hex2rate</th>\n      <th>hex3rate</th>\n      <th>hex4rate</th>\n      <th>hex5rate</th>\n      <th>hex1R</th>\n      <th>hex1G</th>\n      <th>hex1B</th>\n      <th>hex2R</th>\n      <th>...</th>\n      <th>hex2B</th>\n      <th>hex3R</th>\n      <th>hex3G</th>\n      <th>hex3B</th>\n      <th>hex4R</th>\n      <th>hex4G</th>\n      <th>hex4B</th>\n      <th>hex5R</th>\n      <th>hex5G</th>\n      <th>hex5B</th>\n    </tr>\n  </thead>\n  <tbody>\n    <tr>\n      <th>0</th>\n      <td>BL</td>\n      <td>0.362742</td>\n      <td>0.254111</td>\n      <td>0.181476</td>\n      <td>0.106669</td>\n      <td>0.095002</td>\n      <td>0.996078</td>\n      <td>0.988235</td>\n      <td>0.968627</td>\n      <td>0.988235</td>\n      <td>...</td>\n      <td>0.811765</td>\n      <td>0.980392</td>\n      <td>0.509804</td>\n      <td>0.388235</td>\n      <td>0.964706</td>\n      <td>0.682353</td>\n      <td>0.615686</td>\n      <td>0.866667</td>\n      <td>0.203922</td>\n      <td>0.207843</td>\n    </tr>\n    <tr>\n      <th>1</th>\n      <td>BL</td>\n      <td>0.595297</td>\n      <td>0.128252</td>\n      <td>0.106436</td>\n      <td>0.085562</td>\n      <td>0.084453</td>\n      <td>0.898039</td>\n      <td>0.909804</td>\n      <td>0.913725</td>\n      <td>0.196078</td>\n      <td>...</td>\n      <td>0.760784</td>\n      <td>0.156863</td>\n      <td>0.168627</td>\n      <td>0.180392</td>\n      <td>0.415686</td>\n      <td>0.435294</td>\n      <td>0.450980</td>\n      <td>0.713725</td>\n      <td>0.717647</td>\n      <td>0.725490</td>\n    </tr>\n    <tr>\n      <th>2</th>\n      <td>BL</td>\n      <td>0.538033</td>\n      <td>0.174916</td>\n      <td>0.169953</td>\n      <td>0.064639</td>\n      <td>0.052458</td>\n      <td>0.992157</td>\n      <td>0.964706</td>\n      <td>0.945098</td>\n      <td>0.188235</td>\n      <td>...</td>\n      <td>0.196078</td>\n      <td>0.952941</td>\n      <td>0.850980</td>\n      <td>0.768627</td>\n      <td>0.411765</td>\n      <td>0.207843</td>\n      <td>0.376471</td>\n      <td>0.713725</td>\n      <td>0.509804</td>\n      <td>0.576471</td>\n    </tr>\n    <tr>\n      <th>3</th>\n      <td>BL</td>\n      <td>0.550254</td>\n      <td>0.149492</td>\n      <td>0.129461</td>\n      <td>0.092122</td>\n      <td>0.078671</td>\n      <td>0.949020</td>\n      <td>0.960784</td>\n      <td>0.945098</td>\n      <td>0.941176</td>\n      <td>...</td>\n      <td>0.760784</td>\n      <td>0.831373</td>\n      <td>0.537255</td>\n      <td>0.552941</td>\n      <td>0.568627</td>\n      <td>0.290196</td>\n      <td>0.364706</td>\n      <td>0.262745</td>\n      <td>0.109804</td>\n      <td>0.152941</td>\n    </tr>\n    <tr>\n      <th>4</th>\n      <td>BL</td>\n      <td>0.323965</td>\n      <td>0.282766</td>\n      <td>0.149054</td>\n      <td>0.134914</td>\n      <td>0.109301</td>\n      <td>0.992157</td>\n      <td>0.972549</td>\n      <td>0.941176</td>\n      <td>0.396078</td>\n      <td>...</td>\n      <td>0.301961</td>\n      <td>0.639216</td>\n      <td>0.592157</td>\n      <td>0.588235</td>\n      <td>0.882353</td>\n      <td>0.764706</td>\n      <td>0.682353</td>\n      <td>0.145098</td>\n      <td>0.098039</td>\n      <td>0.086275</td>\n    </tr>\n  </tbody>\n</table>\n<p>5 rows × 21 columns</p>\n</div>"
     },
     "execution_count": 15,
     "metadata": {},
     "output_type": "execute_result"
    }
   ],
   "source": [
    "protodata = data.drop(['제목','hex1','hex2','hex3','hex4','hex5','file_path'],axis = 1)\n",
    "protodata.head()"
   ],
   "metadata": {
    "collapsed": false,
    "pycharm": {
     "name": "#%%\n"
    }
   }
  },
  {
   "cell_type": "markdown",
   "source": [
    "k-prototype은 카테고리는 object형, 수치형은 k-mean 기반이기에 표준화가 이뤄져야한다.\n",
    "본 코드에서는 정규화로 계산되었다."
   ],
   "metadata": {
    "collapsed": false
   }
  },
  {
   "cell_type": "code",
   "execution_count": 16,
   "outputs": [
    {
     "name": "stdout",
     "output_type": "stream",
     "text": [
      "<class 'pandas.core.frame.DataFrame'>\n",
      "RangeIndex: 1107 entries, 0 to 1106\n",
      "Data columns (total 21 columns):\n",
      " #   Column    Non-Null Count  Dtype  \n",
      "---  ------    --------------  -----  \n",
      " 0   카테고리      1107 non-null   object \n",
      " 1   hex1rate  1107 non-null   float64\n",
      " 2   hex2rate  1107 non-null   float64\n",
      " 3   hex3rate  1107 non-null   float64\n",
      " 4   hex4rate  1107 non-null   float64\n",
      " 5   hex5rate  1107 non-null   float64\n",
      " 6   hex1R     1107 non-null   float64\n",
      " 7   hex1G     1107 non-null   float64\n",
      " 8   hex1B     1107 non-null   float64\n",
      " 9   hex2R     1107 non-null   float64\n",
      " 10  hex2G     1107 non-null   float64\n",
      " 11  hex2B     1107 non-null   float64\n",
      " 12  hex3R     1107 non-null   float64\n",
      " 13  hex3G     1107 non-null   float64\n",
      " 14  hex3B     1107 non-null   float64\n",
      " 15  hex4R     1107 non-null   float64\n",
      " 16  hex4G     1107 non-null   float64\n",
      " 17  hex4B     1107 non-null   float64\n",
      " 18  hex5R     1107 non-null   float64\n",
      " 19  hex5G     1107 non-null   float64\n",
      " 20  hex5B     1107 non-null   float64\n",
      "dtypes: float64(20), object(1)\n",
      "memory usage: 181.7+ KB\n"
     ]
    }
   ],
   "source": [
    "protodata.info()"
   ],
   "metadata": {
    "collapsed": false,
    "pycharm": {
     "name": "#%%\n"
    }
   }
  },
  {
   "cell_type": "markdown",
   "source": [
    "UMAP Embedding 작업.\n",
    "numerical의 전처리는 이미 정규화 되었기에 실시하지 않는다."
   ],
   "metadata": {
    "collapsed": false
   }
  },
  {
   "cell_type": "code",
   "execution_count": 17,
   "outputs": [
    {
     "name": "stdout",
     "output_type": "stream",
     "text": [
      "전체에서 범주형 데이터 비중 : 0.047619047619047616\n"
     ]
    },
    {
     "name": "stderr",
     "output_type": "stream",
     "text": [
      "C:\\Users\\Nyoths\\anaconda3\\lib\\site-packages\\umap\\umap_.py:1802: UserWarning: gradient function is not yet implemented for dice distance metric; inverse_transform will be unavailable\n"
     ]
    }
   ],
   "source": [
    "#Preprocessing numerical\n",
    "numerical = protodata.select_dtypes(exclude='object')\n",
    "\n",
    "##preprocessing categorical\n",
    "categorical = protodata.select_dtypes(include='object')\n",
    "categorical = pd.get_dummies(categorical)\n",
    "\n",
    "#Percentage of columns which are categorical is used as weight parameter in embeddings later\n",
    "categorical_weight = len(protodata.select_dtypes(include='object').columns) / protodata.shape[1]\n",
    "print(f'전체에서 범주형 데이터 비중 : {categorical_weight}')\n",
    "\n",
    "#Embedding numerical & categorical\n",
    "fit1 = umap.UMAP(metric='l2').fit(numerical)\n",
    "fit2 = umap.UMAP(metric='dice').fit(categorical)"
   ],
   "metadata": {
    "collapsed": false,
    "pycharm": {
     "name": "#%%\n"
    }
   }
  },
  {
   "cell_type": "markdown",
   "source": [
    "임베딩 후 그래프 그리기."
   ],
   "metadata": {
    "collapsed": false
   }
  },
  {
   "cell_type": "code",
   "execution_count": 18,
   "outputs": [
    {
     "data": {
      "text/plain": "  0%|          | 0/500 [00:00<?, ?it/s]",
      "application/vnd.jupyter.widget-view+json": {
       "version_major": 2,
       "version_minor": 0,
       "model_id": "6018e86dc4b54412b781da87182bba84"
      }
     },
     "metadata": {},
     "output_type": "display_data"
    }
   ],
   "source": [
    "#Augmenting the numerical embedding with categorical\n",
    "intersection = umap.umap_.general_simplicial_set_intersection(fit1.graph_, fit2.graph_, weight=categorical_weight)\n",
    "intersection = umap.umap_.reset_local_connectivity(intersection)\n",
    "\n",
    "embedding = umap.umap_.simplicial_set_embedding(data=fit1._raw_data, graph=intersection, n_components=fit1.n_components,\n",
    "                                                initial_alpha=fit1._initial_alpha, a=fit1._a, b=fit1._b,\n",
    "                                                gamma=fit1.repulsion_strength, negative_sample_rate=fit1.negative_sample_rate,\n",
    "                                                n_epochs=500, init = 'random', random_state = np.random, metric = fit1.metric,\n",
    "                                                metric_kwds= fit1._metric_kwds, densmap = False, densmap_kwds=False, output_dens=False, verbose=1)"
   ],
   "metadata": {
    "collapsed": false,
    "pycharm": {
     "name": "#%%\n"
    }
   }
  },
  {
   "cell_type": "markdown",
   "source": [
    "플롯을 출력한다"
   ],
   "metadata": {
    "collapsed": false
   }
  },
  {
   "cell_type": "code",
   "execution_count": 19,
   "outputs": [
    {
     "data": {
      "text/plain": "<Figure size 1440x720 with 1 Axes>",
      "image/png": "[encoded data removed]"
     },
     "metadata": {
      "needs_background": "light"
     },
     "output_type": "display_data"
    }
   ],
   "source": [
    "plt.figure(figsize=(20, 10))\n",
    "plt.scatter(embedding[0][:, 0], embedding[0][:, 1],s=2, cmap='Spectral', alpha=1.0)\n",
    "plt.show()"
   ],
   "metadata": {
    "collapsed": false,
    "pycharm": {
     "name": "#%%\n"
    }
   }
  },
  {
   "cell_type": "markdown",
   "source": [
    "좋은 모양일까?, 좋은 모양이더라도 UMAP이기에 항상 이모양이라고 가정할 수 없기 때문에 잘 모른다.\n",
    "또한 클러스터링 된 결과가 그래프의 모양과 일치하지 않을수도 있다.\n",
    "\n",
    "\n",
    "일단 그래프 작업은 여기까지 진행하고, prototype을 돌리기 위한 사전작업을 진행한다."
   ],
   "metadata": {
    "collapsed": false
   }
  },
  {
   "cell_type": "code",
   "execution_count": 20,
   "outputs": [
    {
     "name": "stdout",
     "output_type": "stream",
     "text": [
      "Categorical columns           : ['카테고리']\n",
      "Categorical columns position  : [0]\n"
     ]
    }
   ],
   "source": [
    "categorical_columns = [protodata.columns.get_loc(col) for col in list(protodata.select_dtypes('object').columns)]\n",
    "print('Categorical columns           : {}'.format(list(protodata.select_dtypes('object').columns)))\n",
    "print('Categorical columns position  : {}'.format(categorical_columns))"
   ],
   "metadata": {
    "collapsed": false,
    "pycharm": {
     "name": "#%%\n"
    }
   }
  },
  {
   "cell_type": "markdown",
   "source": [
    "원래라면, k=8정도에서 멈출것이지만, 열이 상당히 많음으로\n",
    "또한 분류 해야할 범위가 크다고 판단하여, 16까지 진행하였다.\n",
    "\n",
    "또한 scree plot은 결과를 고정하는것이 좋으므로 seed를 임의로 고정하여 그렸다."
   ],
   "metadata": {
    "collapsed": false
   }
  },
  {
   "cell_type": "code",
   "execution_count": 21,
   "outputs": [
    {
     "name": "stderr",
     "output_type": "stream",
     "text": [
      "  6%|▋         | 1/16 [00:02<00:30,  2.05s/it]"
     ]
    },
    {
     "name": "stdout",
     "output_type": "stream",
     "text": [
      "Best run was number 1\n",
      "1504.856481840548\n",
      "Cluster initiation: 1\n"
     ]
    },
    {
     "name": "stderr",
     "output_type": "stream",
     "text": [
      " 12%|█▎        | 2/16 [00:03<00:19,  1.41s/it]"
     ]
    },
    {
     "name": "stdout",
     "output_type": "stream",
     "text": [
      "Best run was number 2\n",
      "1116.2026992341653\n",
      "Cluster initiation: 2\n"
     ]
    },
    {
     "name": "stderr",
     "output_type": "stream",
     "text": [
      " 19%|█▉        | 3/16 [00:03<00:15,  1.20s/it]"
     ]
    },
    {
     "name": "stdout",
     "output_type": "stream",
     "text": [
      "Best run was number 2\n",
      "959.5210224856522\n",
      "Cluster initiation: 3\n"
     ]
    },
    {
     "name": "stderr",
     "output_type": "stream",
     "text": [
      " 25%|██▌       | 4/16 [00:05<00:13,  1.15s/it]"
     ]
    },
    {
     "name": "stdout",
     "output_type": "stream",
     "text": [
      "Best run was number 9\n",
      "871.1162737221983\n",
      "Cluster initiation: 4\n"
     ]
    },
    {
     "name": "stderr",
     "output_type": "stream",
     "text": [
      " 31%|███▏      | 5/16 [00:06<00:13,  1.20s/it]"
     ]
    },
    {
     "name": "stdout",
     "output_type": "stream",
     "text": [
      "Best run was number 9\n",
      "802.1799884048097\n",
      "Cluster initiation: 5\n"
     ]
    },
    {
     "name": "stderr",
     "output_type": "stream",
     "text": [
      " 38%|███▊      | 6/16 [00:07<00:12,  1.30s/it]"
     ]
    },
    {
     "name": "stdout",
     "output_type": "stream",
     "text": [
      "Best run was number 6\n",
      "751.4006170263443\n",
      "Cluster initiation: 6\n"
     ]
    },
    {
     "name": "stderr",
     "output_type": "stream",
     "text": [
      " 44%|████▍     | 7/16 [00:09<00:11,  1.33s/it]"
     ]
    },
    {
     "name": "stdout",
     "output_type": "stream",
     "text": [
      "Best run was number 8\n",
      "709.4179976126578\n",
      "Cluster initiation: 7\n"
     ]
    },
    {
     "name": "stderr",
     "output_type": "stream",
     "text": [
      " 50%|█████     | 8/16 [00:10<00:10,  1.34s/it]"
     ]
    },
    {
     "name": "stdout",
     "output_type": "stream",
     "text": [
      "Best run was number 3\n",
      "671.183956784419\n",
      "Cluster initiation: 8\n"
     ]
    },
    {
     "name": "stderr",
     "output_type": "stream",
     "text": [
      " 56%|█████▋    | 9/16 [00:12<00:10,  1.44s/it]"
     ]
    },
    {
     "name": "stdout",
     "output_type": "stream",
     "text": [
      "Best run was number 8\n",
      "641.8531855349769\n",
      "Cluster initiation: 9\n"
     ]
    },
    {
     "name": "stderr",
     "output_type": "stream",
     "text": [
      " 62%|██████▎   | 10/16 [00:13<00:09,  1.51s/it]"
     ]
    },
    {
     "name": "stdout",
     "output_type": "stream",
     "text": [
      "Best run was number 10\n",
      "616.9814234920515\n",
      "Cluster initiation: 10\n"
     ]
    },
    {
     "name": "stderr",
     "output_type": "stream",
     "text": [
      " 69%|██████▉   | 11/16 [00:15<00:07,  1.57s/it]"
     ]
    },
    {
     "name": "stdout",
     "output_type": "stream",
     "text": [
      "Best run was number 7\n",
      "597.4235662867367\n",
      "Cluster initiation: 11\n"
     ]
    },
    {
     "name": "stderr",
     "output_type": "stream",
     "text": [
      " 75%|███████▌  | 12/16 [00:17<00:07,  1.75s/it]"
     ]
    },
    {
     "name": "stdout",
     "output_type": "stream",
     "text": [
      "Best run was number 2\n",
      "588.0716764029811\n",
      "Cluster initiation: 12\n"
     ]
    },
    {
     "name": "stderr",
     "output_type": "stream",
     "text": [
      " 81%|████████▏ | 13/16 [00:19<00:05,  1.79s/it]"
     ]
    },
    {
     "name": "stdout",
     "output_type": "stream",
     "text": [
      "Best run was number 3\n",
      "570.8855347293901\n",
      "Cluster initiation: 13\n"
     ]
    },
    {
     "name": "stderr",
     "output_type": "stream",
     "text": [
      " 88%|████████▊ | 14/16 [00:22<00:04,  2.07s/it]"
     ]
    },
    {
     "name": "stdout",
     "output_type": "stream",
     "text": [
      "Best run was number 10\n",
      "559.946568183545\n",
      "Cluster initiation: 14\n"
     ]
    },
    {
     "name": "stderr",
     "output_type": "stream",
     "text": [
      " 94%|█████████▍| 15/16 [00:25<00:02,  2.36s/it]"
     ]
    },
    {
     "name": "stdout",
     "output_type": "stream",
     "text": [
      "Best run was number 4\n",
      "551.4128297572273\n",
      "Cluster initiation: 15\n"
     ]
    },
    {
     "name": "stderr",
     "output_type": "stream",
     "text": [
      "100%|██████████| 16/16 [00:28<00:00,  1.81s/it]"
     ]
    },
    {
     "name": "stdout",
     "output_type": "stream",
     "text": [
      "Best run was number 10\n",
      "542.0871125854497\n",
      "Cluster initiation: 16\n"
     ]
    },
    {
     "name": "stderr",
     "output_type": "stream",
     "text": [
      "\n"
     ]
    }
   ],
   "source": [
    "# Choose optimal K using Elbow method\n",
    "cost = []\n",
    "for cluster in tqdm(range(1, 17)):\n",
    "    try:\n",
    "        kprototype = KPrototypes(n_jobs = -1, n_clusters = cluster, init = 'Huang', random_state = 404, verbose = 1)\n",
    "        kprototype.fit_predict(protodata, categorical = categorical_columns)\n",
    "        cost.append(kprototype.cost_)\n",
    "        print(kprototype.cost_)\n",
    "        print('Cluster initiation: {}'.format(cluster))\n",
    "    except:\n",
    "        break"
   ],
   "metadata": {
    "collapsed": false,
    "pycharm": {
     "name": "#%%\n"
    }
   }
  },
  {
   "cell_type": "markdown",
   "source": [
    "k=2~20 까지의 비용함수 그래프를 그린다. -> scree plot"
   ],
   "metadata": {
    "collapsed": false
   }
  },
  {
   "cell_type": "code",
   "execution_count": 22,
   "outputs": [
    {
     "data": {
      "text/plain": "<Figure size 1000x500 with 1 Axes>",
      "image/png": "[encoded data removed]"
     },
     "metadata": {
      "needs_background": "light"
     },
     "output_type": "display_data"
    },
    {
     "data": {
      "text/plain": "<ggplot: (130775001317)>"
     },
     "execution_count": 22,
     "metadata": {},
     "output_type": "execute_result"
    }
   ],
   "source": [
    "df_cost = pd.DataFrame({'Cluster':range(1, 17), 'Cost':cost})\n",
    "# Data viz\n",
    "plotnine.options.figure_size = (10, 5)\n",
    "(\n",
    "        ggplot(data = df_cost)+\n",
    "        geom_line(aes(x = 'Cluster',\n",
    "                      y = 'Cost'))+\n",
    "        geom_point(aes(x = 'Cluster',\n",
    "                       y = 'Cost'))+\n",
    "        geom_label(aes(x = 'Cluster',\n",
    "                       y = 'Cost',\n",
    "                       label = 'Cluster'),\n",
    "                   size = 10,\n",
    "                   nudge_y = 1000) +\n",
    "        labs(title = 'Optimal number of cluster with Elbow Method')+\n",
    "        xlab('Number of Clusters k')+\n",
    "        ylab('Cost')+\n",
    "        theme_minimal()\n",
    ")"
   ],
   "metadata": {
    "collapsed": false,
    "pycharm": {
     "name": "#%%\n"
    }
   }
  },
  {
   "cell_type": "markdown",
   "source": [
    "4가 기준점으로 삼기 적절한것 같은 판단 하에, 4로 군집화를 시도하였다.\n",
    "모양이 올바르지 않거나, 군집화가 안맞으면 바꾸는게 맞다고 판단."
   ],
   "metadata": {
    "collapsed": false
   }
  },
  {
   "cell_type": "code",
   "execution_count": 23,
   "outputs": [],
   "source": [
    "# k 기준값\n",
    "k_cluster = 4\n",
    "# clustering process\n",
    "kproto = KPrototypes(n_clusters= k_cluster, init='Cao', n_jobs = -1)\n",
    "clusters = kproto.fit_predict(protodata, categorical=categorical_columns)"
   ],
   "metadata": {
    "collapsed": false,
    "pycharm": {
     "name": "#%%\n"
    }
   }
  },
  {
   "cell_type": "markdown",
   "source": [
    "범주에 할당된 값은 다음과 같습니다."
   ],
   "metadata": {
    "collapsed": false
   }
  },
  {
   "cell_type": "code",
   "execution_count": 24,
   "outputs": [
    {
     "data": {
      "text/plain": "3    455\n1    274\n0    230\n2    148\ndtype: int64"
     },
     "execution_count": 24,
     "metadata": {},
     "output_type": "execute_result"
    }
   ],
   "source": [
    "pd.Series(clusters).value_counts()"
   ],
   "metadata": {
    "collapsed": false,
    "pycharm": {
     "name": "#%%\n"
    }
   }
  },
  {
   "cell_type": "markdown",
   "source": [
    "그래프 상에서는 다음과 같이 나타납니다."
   ],
   "metadata": {
    "collapsed": false
   }
  },
  {
   "cell_type": "code",
   "execution_count": 25,
   "outputs": [
    {
     "data": {
      "text/plain": "<matplotlib.legend.Legend at 0x1e72d62a4f0>"
     },
     "execution_count": 25,
     "metadata": {},
     "output_type": "execute_result"
    },
    {
     "data": {
      "text/plain": "<Figure size 1440x720 with 1 Axes>",
      "image/png": "[encoded data removed]"
     },
     "metadata": {
      "needs_background": "light"
     },
     "output_type": "display_data"
    }
   ],
   "source": [
    "fig, ax = plt.subplots()\n",
    "fig.set_size_inches((20, 10))\n",
    "scatter = ax.scatter(embedding[0][:, 0], embedding[0][:, 1], s=2, c=clusters, cmap='tab20b', alpha=1.0)\n",
    "\n",
    "# produce a legend with the unique colors from the scatter\n",
    "legend1 = ax.legend(*scatter.legend_elements(num=15),\n",
    "                    loc=\"lower left\", title=\"Classes\")\n",
    "ax.add_artist(legend1)"
   ],
   "metadata": {
    "collapsed": false,
    "pycharm": {
     "name": "#%%\n"
    }
   }
  },
  {
   "cell_type": "markdown",
   "source": [
    "구성값을 좀 파악해보고 싶은데. 일단 원 데이터 셋에, 분류된 라벨링 값을 부여함."
   ],
   "metadata": {
    "collapsed": false
   }
  },
  {
   "cell_type": "code",
   "execution_count": 26,
   "outputs": [],
   "source": [
    "outputs = data.copy()\n",
    "outputs['Cluster Labels'] = kproto.labels_"
   ],
   "metadata": {
    "collapsed": false,
    "pycharm": {
     "name": "#%%\n"
    }
   }
  },
  {
   "cell_type": "markdown",
   "source": [
    "사실 이렇게 봐서는 잘 모르겠다...."
   ],
   "metadata": {
    "collapsed": false
   }
  },
  {
   "cell_type": "code",
   "execution_count": 27,
   "outputs": [
    {
     "data": {
      "text/plain": "액션     66\n판타지    57\n스릴러    31\n드라마    27\nBL     21\n순정     18\n개그      9\n일상      1\nName: 카테고리, dtype: int64"
     },
     "execution_count": 27,
     "metadata": {},
     "output_type": "execute_result"
    }
   ],
   "source": [
    "outputs[outputs['Cluster Labels']==0].카테고리.value_counts()"
   ],
   "metadata": {
    "collapsed": false,
    "pycharm": {
     "name": "#%%\n"
    }
   }
  },
  {
   "cell_type": "code",
   "execution_count": 28,
   "outputs": [
    {
     "data": {
      "text/plain": "array(['#f402b0', '#534f49', '#985d5d', '#867f89', '#6f7866', '#504c60',\n       '#271e1d', '#504942', '#48352f', '#2d273c', '#0e0a07', '#504843',\n       '#261f16', '#643636', '#1f2542', '#3e2925', '#320b09', '#0a0504',\n       '#c49b75', '#352e22', '#0b0406', '#3a2625', '#692b1c', '#814880',\n       '#37512e', '#504137', '#c72316', '#030101', '#0462b0', '#f94d3f',\n       '#2c373f', '#010101', '#514a35', '#130d0d', '#1b1515', '#716f7e',\n       '#23170e', '#5e314c', '#443b36', '#3c1d20', '#198874', '#1c1b23',\n       '#161a0c', '#1c2c42', '#0c0c0b', '#e38756', '#030108', '#dc555a',\n       '#971f32', '#1b2937', '#050405', '#221b1a', '#0c0907', '#0f0c10',\n       '#030303', '#543a30', '#151a22', '#a46072', '#50455d', '#38292c',\n       '#493343', '#40516e', '#543a35', '#242434', '#180f0c', '#2a1b1e',\n       '#764a43', '#41313f', '#393135', '#121a1c', '#46322d', '#fd017c',\n       '#2d2841', '#494a5d', '#3f2613', '#180101', '#2f1b24', '#010301',\n       '#050707', '#a48f75', '#a78e79', '#030203', '#0d0608', '#0b080a',\n       '#1a0d09', '#646c5e', '#7e372b', '#630f09', '#3c3543', '#050402',\n       '#0f1213', '#080607', '#090910', '#2a292c', '#535353', '#131521',\n       '#e8332b', '#4e4344', '#8c7f77', '#04080c', '#736164', '#0f1418',\n       '#020001', '#312e30', '#703933', '#7c5a50', '#220907', '#273145',\n       '#4a4745', '#6f3d4f', '#343336', '#bd0c0d', '#b1002a', '#592228',\n       '#645a5e', '#1a1032', '#b28e71', '#551e1b', '#060606', '#15233c',\n       '#2d1310', '#5e2d48', '#5a575a', '#130807', '#2d2e37', '#5ab487',\n       '#070707', '#463067', '#4a3639', '#0f0705', '#25202a', '#312546',\n       '#4f3d76', '#485a5e', '#693e40', '#a28f88', '#82858d', '#100c0d',\n       '#7783c8', '#241720', '#151c1f', '#3a232f', '#080512', '#2a1e22',\n       '#1c110f', '#4a1d23', '#cc382d', '#494d47', '#3d3031', '#421822',\n       '#242027', '#cb4f34', '#2b251c', '#2a2529', '#5e2e65', '#0e0a08',\n       '#181729', '#0d0c0e', '#1d2038', '#17121c', '#1d1b1b', '#536ec2',\n       '#0d0b0b', '#100b0a', '#272f33', '#281d19', '#653a2c', '#423341',\n       '#21181d', '#342928', '#0f0f0c', '#1a1b24', '#39283a', '#5c4246',\n       '#150b0c', '#234962', '#42121a', '#252021', '#1a161c', '#180e2d',\n       '#45253f', '#22080b', '#293e6c', '#161c25', '#3474ae', '#a8473f',\n       '#6c5648', '#080707', '#216e7c', '#2e3a6e', '#436998', '#0e0302',\n       '#cd8d77', '#352533', '#0f0f11', '#221109', '#ba2e2f', '#020710',\n       '#221f1d', '#3b1c24', '#030102', '#2a2728', '#060303', '#314761',\n       '#271d22', '#372b32', '#21181c', '#040c13', '#1c121d', '#221c33',\n       '#291e1b', '#6a6862', '#482d3a', '#7d4345', '#343434', '#632757',\n       '#212238', '#c04e47', '#716963', '#652623', '#33444e', '#b0200b',\n       '#524855', '#431b16', '#130b09', '#3c0e0e', '#151d2d', '#1c1c25'],\n      dtype=object)"
     },
     "execution_count": 28,
     "metadata": {},
     "output_type": "execute_result"
    }
   ],
   "source": [
    "outputs[outputs['Cluster Labels']==0].hex1.unique()"
   ],
   "metadata": {
    "collapsed": false,
    "pycharm": {
     "name": "#%%\n"
    }
   }
  },
  {
   "cell_type": "markdown",
   "source": [
    "아니 진짜로... 진짜 모르겠으니까 폴더별로 정리해서 그림 묶음 확인하자.\n",
    "여기서부터는 실행 안한 코드라서 잘 돌아가는지 모름."
   ],
   "metadata": {
    "collapsed": false
   }
  },
  {
   "cell_type": "code",
   "execution_count": 31,
   "outputs": [],
   "source": [
    "# 기존 작업에서 실시하였다면,\n",
    "# 기존에 존재하는 값또한 지워야 하기 때문에, os.rmdir을 사용하지 못합니다.\n",
    "if os.path.exists('KPrototypes_Output_images'):\n",
    "    shutil.rmtree('KPrototypes_Output_images')\n",
    "\n",
    "# 다시 폴더를 만들어줍니다.\n",
    "os.mkdir('KPrototypes_Output_images')\n",
    "for i in range(k_cluster):\n",
    "    os.mkdir('KPrototypes_Output_images/'+str(i)+'_cluster')"
   ],
   "metadata": {
    "collapsed": false,
    "pycharm": {
     "name": "#%%\n"
    }
   }
  },
  {
   "cell_type": "markdown",
   "source": [
    "폴더를 만들었으니, 이제 해당하는 위치에, 파일을 집어넣기만 하면 된다.\n",
    "앞서 그림 색상에서, path를 포함하는 k-mean 파일을 새로 만들었으므로, 그 위치 참조.\n",
    "\n",
    "아래 코드로 클러스터 폴더에 복사-저장되어 정리되겠다."
   ],
   "metadata": {
    "collapsed": false
   }
  },
  {
   "cell_type": "code",
   "execution_count": 32,
   "outputs": [
    {
     "name": "stderr",
     "output_type": "stream",
     "text": [
      "100%|██████████| 1107/1107 [00:01<00:00, 638.55it/s]\n"
     ]
    }
   ],
   "source": [
    "for idx in tqdm(outputs.index):\n",
    "    line = outputs.loc[idx]\n",
    "    # 복사할 파일의 위치 - 상대경로.\n",
    "    file_from = str(line.카테고리) + '/' + str(line.file_path)\n",
    "    # 도착위치.\n",
    "    file_to = 'KPrototypes_Output_images/' + str(line['Cluster Labels']) +'_cluster/' +str(line.file_path)\n",
    "\n",
    "    shutil.copyfile(file_from, file_to)"
   ],
   "metadata": {
    "collapsed": false,
    "pycharm": {
     "name": "#%%\n"
    }
   }
  }
 ],
 "metadata": {
  "kernelspec": {
   "display_name": "Python 3",
   "language": "python",
   "name": "python3"
  },
  "language_info": {
   "codemirror_mode": {
    "name": "ipython",
    "version": 2
   },
   "file_extension": ".py",
   "mimetype": "text/x-python",
   "name": "python",
   "nbconvert_exporter": "python",
   "pygments_lexer": "ipython2",
   "version": "2.7.6"
  }
 },
 "nbformat": 4,
 "nbformat_minor": 0
}